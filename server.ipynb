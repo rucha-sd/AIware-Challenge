{
 "cells": [
  {
   "cell_type": "code",
   "execution_count": null,
   "metadata": {},
   "outputs": [],
   "source": [
    "import pandas as pd\n",
    "\n",
    "input = pd.read_csv(\"conference_schedule_new.csv\")\n",
    "input.head()"
   ]
  },
  {
   "cell_type": "code",
   "execution_count": null,
   "metadata": {},
   "outputs": [],
   "source": [
    "input['id'] = range(1, len(input)+1)\n",
    "for i in range(len(input)):\n",
    "    # check if author is a string\n",
    "    # input['duration'] = float(input['duration'][:-1])\n",
    "    # input['duration'][i] = float(input['duration'][i][:-1])\n",
    "    if type(input['author'][i]) != str:\n",
    "        input['author'][i] = []\n",
    "    else:\n",
    "        input['author'][i] = input['author'][i].split(',')\n",
    "input.head()"
   ]
  },
  {
   "cell_type": "code",
   "execution_count": null,
   "metadata": {},
   "outputs": [],
   "source": [
    "import preprocess\n",
    "import importlib\n",
    "\n",
    "importlib.reload(preprocess)\n",
    "output_val = preprocess.processor()\n",
    "print(output_val[\"merged_output\"])\n",
    "print(output_val[\"duration_array\"])\n",
    "topics_dict = preprocess.get_topics()\n",
    "print(topics_dict)"
   ]
  },
  {
   "cell_type": "code",
   "execution_count": null,
   "metadata": {},
   "outputs": [],
   "source": [
    "import GA\n",
    "import random\n",
    "\n",
    "population_size = 50\n",
    "max_generations = 1000\n",
    "crossover_probability = 0.8\n",
    "mutation_probability = 0.2\n",
    "num_sessions = len(output_val[\"duration_array\"]) #\n",
    "num_papers = output_val['merged_intervals'] \n",
    "\n",
    "print (num_papers)\n",
    "\n",
    "# create papers\n",
    "papers = []\n",
    "for i in range(len(input)):\n",
    "    # print(topics_dict[input['session_title'][i]])\n",
    "    paper = GA.Paper(id=input['id'][i], authors=input['author'][i], duration=input['duration'][i], topic=topics_dict[input['session_title'][i]])\n",
    "    papers.append(paper)\n",
    "\n",
    "session_lengths = [x/60 for x in output_val[\"duration_array\"]] #Fill by python [30, 60, 90, 30, 50]\n",
    "\n",
    "num_tracks_per_session = [len(x) for x in output_val[\"merged_output\"]] # []\n",
    "\n",
    "# num_tracks_per_session = [random.randint(1, 2) for _ in range(num_sessions)] #GA will generate \n",
    "\n",
    "print(num_tracks_per_session)\n",
    "\n",
    "session_details = [(\n",
    "    session_lengths[i],\n",
    "    num_tracks_per_session[i]\n",
    ") for i in range(len(session_lengths))] # [(2, 30), (2, 60), (1, 90)]\n",
    "\n",
    "\n",
    "# Create an instance of the GA class\n",
    "ga = GA.GeneticAlgorithm(population_size, max_generations, crossover_probability, mutation_probability)\n",
    "\n",
    "# Create the initial population\n",
    "initial_population = ga.create_population(papers, session_details, population_size)\n",
    "pop = GA.Population(initial_population, population_size)\n",
    "\n",
    "pop.print_population()"
   ]
  },
  {
   "cell_type": "code",
   "execution_count": null,
   "metadata": {},
   "outputs": [],
   "source": [
    "best = pop.best_solution(len(papers))\n",
    "best[0].print_solution()\n",
    "\n",
    "# best[1]\n"
   ]
  },
  {
   "cell_type": "code",
   "execution_count": null,
   "metadata": {},
   "outputs": [],
   "source": [
    "# print fitness for all solutions\n",
    "for i in range(population_size):\n",
    "    print(\"Solution \", i, \" fitness: \", pop.solutions[i].fitness(len(papers)))\n"
   ]
  },
  {
   "cell_type": "code",
   "execution_count": 7,
   "metadata": {},
   "outputs": [
    {
     "name": "stderr",
     "output_type": "stream",
     "text": [
      "  6%|▌         | 55/1000 [00:42<12:03,  1.31it/s]\n"
     ]
    },
    {
     "ename": "KeyboardInterrupt",
     "evalue": "",
     "output_type": "error",
     "traceback": [
      "\u001b[0;31m---------------------------------------------------------------------------\u001b[0m",
      "\u001b[0;31mKeyboardInterrupt\u001b[0m                         Traceback (most recent call last)",
      "Cell \u001b[0;32mIn[7], line 3\u001b[0m\n\u001b[1;32m      1\u001b[0m \u001b[38;5;66;03m# run the genetic algorithm\u001b[39;00m\n\u001b[0;32m----> 3\u001b[0m pop \u001b[38;5;241m=\u001b[39m \u001b[43mga\u001b[49m\u001b[38;5;241;43m.\u001b[39;49m\u001b[43mrun\u001b[49m\u001b[43m(\u001b[49m\u001b[43mpapers\u001b[49m\u001b[43m,\u001b[49m\u001b[43m \u001b[49m\u001b[43mnum_sessions\u001b[49m\u001b[43m,\u001b[49m\u001b[43m \u001b[49m\u001b[43msession_lengths\u001b[49m\u001b[43m,\u001b[49m\u001b[43m \u001b[49m\u001b[43mnum_tracks_per_session\u001b[49m\u001b[43m,\u001b[49m\u001b[43m \u001b[49m\u001b[43mpopulation_size\u001b[49m\u001b[43m)\u001b[49m\n\u001b[1;32m      4\u001b[0m \u001b[38;5;66;03m# print out results of fittest individual in final population\u001b[39;00m\n\u001b[1;32m      5\u001b[0m pop\n",
      "File \u001b[0;32m~/Desktop/cs592ASE/AIWARE/AIware-Challenge/GA.py:303\u001b[0m, in \u001b[0;36mGeneticAlgorithm.run\u001b[0;34m(self, papers, num_sessions, session_lengths, num_tracks, num_solutions)\u001b[0m\n\u001b[1;32m    301\u001b[0m new_population\u001b[38;5;241m.\u001b[39mextend(population\u001b[38;5;241m.\u001b[39msolutions[:\u001b[38;5;28mint\u001b[39m(\u001b[38;5;241m0.1\u001b[39m \u001b[38;5;241m*\u001b[39m \u001b[38;5;28mself\u001b[39m\u001b[38;5;241m.\u001b[39mpopulation_size)])\n\u001b[1;32m    302\u001b[0m \u001b[38;5;28;01mwhile\u001b[39;00m \u001b[38;5;28mlen\u001b[39m(new_population) \u001b[38;5;241m<\u001b[39m \u001b[38;5;28mself\u001b[39m\u001b[38;5;241m.\u001b[39mpopulation_size:\n\u001b[0;32m--> 303\u001b[0m     parent1, parent2 \u001b[38;5;241m=\u001b[39m \u001b[38;5;28;43mself\u001b[39;49m\u001b[38;5;241;43m.\u001b[39;49m\u001b[43mselect_parents\u001b[49m\u001b[43m(\u001b[49m\u001b[43mpopulation\u001b[49m\u001b[43m,\u001b[49m\u001b[43m \u001b[49m\u001b[38;5;28;43mlen\u001b[39;49m\u001b[43m(\u001b[49m\u001b[43mpapers\u001b[49m\u001b[43m)\u001b[49m\u001b[43m)\u001b[49m\n\u001b[1;32m    304\u001b[0m     \u001b[38;5;28;01mif\u001b[39;00m random\u001b[38;5;241m.\u001b[39mrandom() \u001b[38;5;241m<\u001b[39m \u001b[38;5;28mself\u001b[39m\u001b[38;5;241m.\u001b[39mcrossover_probability:\n\u001b[1;32m    305\u001b[0m         child \u001b[38;5;241m=\u001b[39m \u001b[38;5;28mself\u001b[39m\u001b[38;5;241m.\u001b[39mcrossover(parent1, parent2)\n",
      "File \u001b[0;32m~/Desktop/cs592ASE/AIWARE/AIware-Challenge/GA.py:275\u001b[0m, in \u001b[0;36mGeneticAlgorithm.select_parents\u001b[0;34m(self, population, num_papers, tournament_size)\u001b[0m\n\u001b[1;32m    273\u001b[0m parent2 \u001b[38;5;241m=\u001b[39m tournament()\n\u001b[1;32m    274\u001b[0m \u001b[38;5;28;01mwhile\u001b[39;00m parent1 \u001b[38;5;241m==\u001b[39m parent2:  \u001b[38;5;66;03m# Ensure parent1 and parent2 are not the same\u001b[39;00m\n\u001b[0;32m--> 275\u001b[0m     parent2 \u001b[38;5;241m=\u001b[39m \u001b[43mtournament\u001b[49m\u001b[43m(\u001b[49m\u001b[43m)\u001b[49m\n\u001b[1;32m    276\u001b[0m \u001b[38;5;28;01mreturn\u001b[39;00m parent1, parent2\n",
      "File \u001b[0;32m~/Desktop/cs592ASE/AIWARE/AIware-Challenge/GA.py:269\u001b[0m, in \u001b[0;36mGeneticAlgorithm.select_parents.<locals>.tournament\u001b[0;34m()\u001b[0m\n\u001b[1;32m    267\u001b[0m \u001b[38;5;28;01mdef\u001b[39;00m \u001b[38;5;21mtournament\u001b[39m():\n\u001b[1;32m    268\u001b[0m     contenders \u001b[38;5;241m=\u001b[39m random\u001b[38;5;241m.\u001b[39msample(population\u001b[38;5;241m.\u001b[39msolutions, tournament_size)\n\u001b[0;32m--> 269\u001b[0m     best \u001b[38;5;241m=\u001b[39m \u001b[38;5;28;43msorted\u001b[39;49m\u001b[43m(\u001b[49m\u001b[43mcontenders\u001b[49m\u001b[43m,\u001b[49m\u001b[43m \u001b[49m\u001b[43mkey\u001b[49m\u001b[38;5;241;43m=\u001b[39;49m\u001b[38;5;28;43;01mlambda\u001b[39;49;00m\u001b[43m \u001b[49m\u001b[43msolution\u001b[49m\u001b[43m:\u001b[49m\u001b[43m \u001b[49m\u001b[43msolution\u001b[49m\u001b[38;5;241;43m.\u001b[39;49m\u001b[43mfitness\u001b[49m\u001b[43m(\u001b[49m\u001b[43mnum_papers\u001b[49m\u001b[43m)\u001b[49m\u001b[43m[\u001b[49m\u001b[38;5;124;43m'\u001b[39;49m\u001b[38;5;124;43mfitness\u001b[39;49m\u001b[38;5;124;43m'\u001b[39;49m\u001b[43m]\u001b[49m\u001b[43m,\u001b[49m\u001b[43m \u001b[49m\u001b[43mreverse\u001b[49m\u001b[38;5;241;43m=\u001b[39;49m\u001b[38;5;28;43;01mTrue\u001b[39;49;00m\u001b[43m)\u001b[49m[\u001b[38;5;241m0\u001b[39m]\n\u001b[1;32m    270\u001b[0m     \u001b[38;5;28;01mreturn\u001b[39;00m best\n",
      "File \u001b[0;32m~/Desktop/cs592ASE/AIWARE/AIware-Challenge/GA.py:269\u001b[0m, in \u001b[0;36mGeneticAlgorithm.select_parents.<locals>.tournament.<locals>.<lambda>\u001b[0;34m(solution)\u001b[0m\n\u001b[1;32m    267\u001b[0m \u001b[38;5;28;01mdef\u001b[39;00m \u001b[38;5;21mtournament\u001b[39m():\n\u001b[1;32m    268\u001b[0m     contenders \u001b[38;5;241m=\u001b[39m random\u001b[38;5;241m.\u001b[39msample(population\u001b[38;5;241m.\u001b[39msolutions, tournament_size)\n\u001b[0;32m--> 269\u001b[0m     best \u001b[38;5;241m=\u001b[39m \u001b[38;5;28msorted\u001b[39m(contenders, key\u001b[38;5;241m=\u001b[39m\u001b[38;5;28;01mlambda\u001b[39;00m solution: \u001b[43msolution\u001b[49m\u001b[38;5;241;43m.\u001b[39;49m\u001b[43mfitness\u001b[49m\u001b[43m(\u001b[49m\u001b[43mnum_papers\u001b[49m\u001b[43m)\u001b[49m[\u001b[38;5;124m'\u001b[39m\u001b[38;5;124mfitness\u001b[39m\u001b[38;5;124m'\u001b[39m], reverse\u001b[38;5;241m=\u001b[39m\u001b[38;5;28;01mTrue\u001b[39;00m)[\u001b[38;5;241m0\u001b[39m]\n\u001b[1;32m    270\u001b[0m     \u001b[38;5;28;01mreturn\u001b[39;00m best\n",
      "File \u001b[0;32m~/Desktop/cs592ASE/AIWARE/AIware-Challenge/GA.py:54\u001b[0m, in \u001b[0;36mSolution.fitness\u001b[0;34m(self, num_papers)\u001b[0m\n\u001b[1;32m     51\u001b[0m         \u001b[38;5;66;03m# Check for author overlap within the same session's parallel tracks\u001b[39;00m\n\u001b[1;32m     52\u001b[0m         \u001b[38;5;28;01mfor\u001b[39;00m author \u001b[38;5;129;01min\u001b[39;00m paper\u001b[38;5;241m.\u001b[39mauthors:\n\u001b[1;32m     53\u001b[0m             \u001b[38;5;66;03m# check if the author is present in any of the previous tracks\u001b[39;00m\n\u001b[0;32m---> 54\u001b[0m             \u001b[43mauthors_in_session\u001b[49m\u001b[43m[\u001b[49m\u001b[43mi\u001b[49m\u001b[43m]\u001b[49m\u001b[38;5;241m.\u001b[39madd(author)\n\u001b[1;32m     55\u001b[0m         total_authors\u001b[38;5;241m.\u001b[39mupdate(paper\u001b[38;5;241m.\u001b[39mauthors)\n\u001b[1;32m     57\u001b[0m \u001b[38;5;66;03m# make a list that contains all the authors in the session, keep duplicates\u001b[39;00m\n\u001b[1;32m     58\u001b[0m \u001b[38;5;66;03m# print(len(session.tracks))\u001b[39;00m\n",
      "\u001b[0;31mKeyboardInterrupt\u001b[0m: "
     ]
    }
   ],
   "source": [
    "# run the genetic algorithm\n",
    "\n",
    "pop = ga.run(papers, num_sessions, session_lengths, num_tracks_per_session, population_size)\n",
    "# print out results of fittest individual in final population\n",
    "pop"
   ]
  },
  {
   "cell_type": "code",
   "execution_count": null,
   "metadata": {},
   "outputs": [],
   "source": [
    "pop[0].print_solution()"
   ]
  }
 ],
 "metadata": {
  "kernelspec": {
   "display_name": "myenv",
   "language": "python",
   "name": "python3"
  },
  "language_info": {
   "codemirror_mode": {
    "name": "ipython",
    "version": 3
   },
   "file_extension": ".py",
   "mimetype": "text/x-python",
   "name": "python",
   "nbconvert_exporter": "python",
   "pygments_lexer": "ipython3",
   "version": "3.9.6"
  }
 },
 "nbformat": 4,
 "nbformat_minor": 2
}
