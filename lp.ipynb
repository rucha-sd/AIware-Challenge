{
 "cells": [
  {
   "cell_type": "code",
   "execution_count": 2,
   "metadata": {},
   "outputs": [],
   "source": [
    "import pulp\n",
    "import sys\n",
    "import preprocess_data\n",
    "import GA\n",
    "import pandas as pd"
   ]
  },
  {
   "cell_type": "code",
   "execution_count": 4,
   "metadata": {},
   "outputs": [
    {
     "name": "stdout",
     "output_type": "stream",
     "text": [
      "[(30.0, 2), (60.0, 2), (60.0, 2), (15.0, 1), (60.0, 1), (60.0, 2), (60.0, 1)]\n"
     ]
    }
   ],
   "source": [
    "input_file = \"./csv/conference_schedule_mini.csv\"\n",
    "parsed_input_file, papers_schedule = preprocess_data.parse_csv_to_array(input_file)\n",
    "session_durations, num_tracks_per_session = preprocess_data.session_details(parsed_input_file)\n",
    "session_details = [(session_durations[i], num_tracks_per_session[i]) for i in range(len(session_durations))]\n",
    "print(session_details)"
   ]
  },
  {
   "cell_type": "code",
   "execution_count": 8,
   "metadata": {},
   "outputs": [
    {
     "name": "stdout",
     "output_type": "stream",
     "text": [
      "ID: 1, Authors: ['Jürgen Cito', ' Jiasi Shen', ' Martin C. Rinard', '  Pre-print', '  Media Attached'], Duration: 6.0, Topic: 1\n",
      "ID: 2, Authors: ['Jason Tsay', ' Alan Braz', ' Martin Hirzel', ' Avraham Shinnar', ' Todd Mummert', '  Pre-print', '  Media Attached'], Duration: 6.0, Topic: 1\n",
      "ID: 3, Authors: ['Timofey Bryksin', ' Victor Petukhov', ' Ilya Alexin', ' Stanislav Prikhodko', ' Alexey Shpilman', ' Vladimir Kovalenko', ' Nikita Povarov', '  Pre-print', '  Media Attached'], Duration: 6.0, Topic: 1\n",
      "ID: 4, Authors: ['Tomoki Nakamaru', ' Tomomasa Matsunaga', ' Tetsuro Yamazaki', ' Soramichi Akiyama', ' Shigeru Chiba', '  Pre-print', '  Media Attached'], Duration: 6.0, Topic: 1\n",
      "ID: 5, Authors: ['Nan Yang', ' Pieter Cuijpers', ' Ramon Schiffelers', ' Johan Lukkien', ' Alexander Serebrenik', '  Media Attached'], Duration: 6.0, Topic: 1\n",
      "ID: 6, Authors: ['Leonardo Da Silva Sousa', ' Diego Cedrim', ' Alessandro Garcia', ' Willian Oizumi', ' Ana Carla Bibiano', ' Daniel Oliveira', ' Miryung Kim', ' Anderson Oliveira', '  Pre-print', '  Media Attached'], Duration: 7.0, Topic: 2\n",
      "ID: 7, Authors: ['Matheus Paixao', ' Anderson Uchôa', ' Ana Carla Bibiano', ' Daniel Oliveira', ' Alessandro Garcia', ' Jens Krinke', ' Emilio Arvonio', '  Pre-print', '  Media Attached'], Duration: 7.0, Topic: 2\n",
      "ID: 8, Authors: ['Federico Corò', ' Roberto Verdecchia', ' Emilio Cruciani', ' Breno Miranda', ' Antonia Bertolino', '  Pre-print', '  Media Attached'], Duration: 7.0, Topic: 2\n",
      "ID: 9, Authors: ['András Kicsi', ' László Vidács', ' Tibor Gyimothy', '  Pre-print', '  Media Attached'], Duration: 7.0, Topic: 2\n",
      "ID: 10, Authors: ['Yiwen Wu', ' Yang Zhang', ' Tao Wang', ' Huaimin Wang', '  Pre-print', '  Media Attached'], Duration: 12.0, Topic: 3\n",
      "ID: 11, Authors: ['Suhaib Mujahid', ' Rabe Abdalkareem', ' Emad Shihab', ' Shane McIntosh', '  Pre-print', '  Media Attached'], Duration: 12.0, Topic: 3\n",
      "ID: 12, Authors: ['Jordan Henkel', ' Christian Bird', ' Shuvendu Lahiri', ' Thomas Reps', '  Media Attached'], Duration: 12.0, Topic: 3\n",
      "ID: 13, Authors: ['Thomas Durieux', ' Claire Le Goues', ' Michael Hilton', ' Rui Abreu', '  DOI', '  Pre-print', '  Media Attached'], Duration: 12.0, Topic: 3\n",
      "ID: 14, Authors: ['Carolin Brandt', ' Annibale Panichella', ' Andy Zaidman', ' Moritz Beller', '  Pre-print', '  Media Attached'], Duration: 12.0, Topic: 3\n",
      "ID: 15, Authors: ['Neil Ernst', ' Janet Siegmund'], Duration: 30.0, Topic: 4\n",
      "ID: 16, Authors: ['Antonio Borrelli', ' Vittoria Nardone', ' Giuseppe Di Lucca', ' Gerardo Canfora', ' Massimiliano Di Penta', '  Pre-print', '  Media Attached'], Duration: 10.0, Topic: 5\n",
      "ID: 17, Authors: ['Davide Spadini', ' Martin Schvarcbacher', ' Ana Maria Oprescu', ' Magiel Bruntink', ' Alberto Bacchelli', '  DOI', '  Pre-print', '  Media Attached'], Duration: 10.0, Topic: 5\n",
      "ID: 18, Authors: ['Biruk Asmare Muse', ' Masud Rahman', ' Csaba Nagy', ' Anthony Cleve', ' Foutse Khomh', ' Giuliano Antoniol', '  Pre-print', '  Media Attached'], Duration: 10.0, Topic: 5\n",
      "ID: 19, Authors: ['Mouna Abidi', ' Moses Openja', ' Foutse Khomh', '  Pre-print', '  Media Attached'], Duration: 10.0, Topic: 5\n",
      "ID: 20, Authors: ['Hadhemi Jebnoun', ' Masud Rahman', ' Foutse Khomh', ' Houssem Ben Braiek ', '  Pre-print', '  Media Attached'], Duration: 10.0, Topic: 5\n",
      "ID: 21, Authors: ['Fabiano Pecorelli', ' Fabio Palomba', ' Foutse Khomh', ' Andrea De Lucia', '  Pre-print', '  Media Attached'], Duration: 10.0, Topic: 5\n",
      "ID: 22, Authors: ['Ali Rao Hamza', ' Chelsea Parlett-Pelleriti', ' Erik Linstead', '  Pre-print', '  Media Attached'], Duration: 20.0, Topic: 6\n",
      "ID: 23, Authors: ['Avijit Bhattacharjee', ' Sristy Sumana Nath', ' Shurui Zhou', ' Debasish Chakroborti', ' Banani Roy', ' Chanchal K. Roy', ' Kevin Schneider', '  DOI', '  Pre-print', '  Media Attached'], Duration: 20.0, Topic: 6\n",
      "ID: 24, Authors: ['Gabor Antal', ' Márton Keleti', ' Peter Hegedus', '  Pre-print', '  Media Attached'], Duration: 20.0, Topic: 6\n",
      "ID: 25, Authors: ['Sunghun Kim', ' Sarah Nadi', ' Georgios Gousios', '  Media Attached'], Duration: 15.0, Topic: 7\n",
      "ID: 26, Authors: ['Satish Chandra', '  Media Attached'], Duration: 60.0, Topic: 8\n",
      "ID: 27, Authors: ['Cristiano Politowski', ' Fabio Petrillo', ' Yann-Gaël Guéhéneuc', ' Gabriel Cavalheiro Ullmann', ' Josias De Andrade Werly', '  Media Attached'], Duration: 10.0, Topic: 9\n",
      "ID: 28, Authors: ['Omar El Zarif', ' Daniel Alencar Da Costa', ' Safwat Hassan', ' Ying Zou', '  Pre-print', '  Media Attached'], Duration: 10.0, Topic: 9\n",
      "ID: 29, Authors: ['Irving Muller Rodrigues', ' Daniel Aloise', ' Eraldo Rezende Fernandes', ' Michel Dagenais', '  Pre-print', '  Media Attached'], Duration: 10.0, Topic: 9\n",
      "ID: 30, Authors: ['Shayan Akbar', ' Avinash Kak', '  Media Attached'], Duration: 10.0, Topic: 9\n",
      "ID: 31, Authors: ['Rafael-Michael Karampatsis', ' Charles Sutton', '  Pre-print', '  Media Attached'], Duration: 10.0, Topic: 9\n",
      "ID: 32, Authors: ['Steffen Herbold', ' Alexander Trautsch', ' Benjamin Ledel', '  Pre-print', '  Media Attached'], Duration: 10.0, Topic: 9\n",
      "ID: 33, Authors: ['Jesus M. Gonzalez-Barahona', '  Pre-print', '  Media Attached'], Duration: 30.0, Topic: 10\n",
      "ID: 34, Authors: ['Christian Kästner', ' Mohamed El-Geish', ' Foutse Khomh', ' Miryung Kim', '  Media Attached'], Duration: 60.0, Topic: 11\n"
     ]
    }
   ],
   "source": [
    "papers_dict = preprocess_data.create_papers(input_file)\n",
    "papers = papers_array = [x for x in papers_dict.values()]\n",
    "\n",
    "for item in papers:\n",
    "    print(item.print_paper())"
   ]
  },
  {
   "cell_type": "code",
   "execution_count": 10,
   "metadata": {},
   "outputs": [],
   "source": [
    "num_sessions = len(session_details)\n",
    "max_tracks = max(num_of_tracks for _, num_of_tracks in session_details)\n",
    "num_papers = len(papers)"
   ]
  },
  {
   "cell_type": "code",
   "execution_count": 13,
   "metadata": {},
   "outputs": [],
   "source": [
    "# Set up the problem\n",
    "prob = pulp.LpProblem(\"Conference_Schedule\", pulp.LpMinimize)\n",
    "\n",
    "# Decision variables\n",
    "x = pulp.LpVariable.dicts(\"paper_schedule\", \n",
    "                          [(i, j, k) for i in range(num_papers)\n",
    "                                     for j in range(num_sessions)\n",
    "                                     for k in range(max_tracks)],\n",
    "                          cat='Binary')\n",
    "\n",
    "# Objective function - As before, we want to minimize the total number of slots used\n",
    "prob += pulp.lpSum(x[i, j, k] for i in range(num_papers) for j in range(num_sessions) for k in range(max_tracks))\n",
    "\n",
    "# Constraints\n",
    "\n",
    "# Constraint 1: Total duration of papers in a session cannot exceed session duration\n",
    "for j, (session_duration, num_of_tracks) in enumerate(session_details):\n",
    "    for k in range(num_of_tracks):\n",
    "        prob += pulp.lpSum(x[i, j, k] * papers[i].duration for i in range(num_papers)) <= session_duration\n"
   ]
  },
  {
   "cell_type": "code",
   "execution_count": 14,
   "metadata": {},
   "outputs": [],
   "source": [
    "def have_common_authors(paper1, paper2):\n",
    "    return not set(paper1.authors).isdisjoint(paper2.authors)\n"
   ]
  },
  {
   "cell_type": "code",
   "execution_count": 15,
   "metadata": {},
   "outputs": [
    {
     "name": "stdout",
     "output_type": "stream",
     "text": [
      "Welcome to the CBC MILP Solver \n",
      "Version: 2.10.3 \n",
      "Build Date: Dec 15 2019 \n",
      "\n",
      "command line - /opt/anaconda3/envs/myenv/lib/python3.12/site-packages/pulp/solverdir/cbc/osx/64/cbc /var/folders/5k/15bqvj117x74tp3qhvsy1m880000gn/T/f6035d7088684bc799fb8158193d07c6-pulp.mps -timeMode elapsed -branch -printingOptions all -solution /var/folders/5k/15bqvj117x74tp3qhvsy1m880000gn/T/f6035d7088684bc799fb8158193d07c6-pulp.sol (default strategy 1)\n",
      "At line 2 NAME          MODEL\n",
      "At line 3 ROWS\n",
      "At line 4614 COLUMNS\n",
      "At line 15511 RHS\n",
      "At line 20121 BOUNDS\n",
      "At line 20598 ENDATA\n",
      "Problem MODEL has 4609 rows, 476 columns and 9094 elements\n",
      "Coin0008I MODEL read with 0 errors\n",
      "Option for timeMode changed from cpu to elapsed\n",
      "Continuous objective value is 0 - 0.00 seconds\n",
      "Cgl0002I 272 variables fixed\n",
      "Cgl0004I processed model has 0 rows, 0 columns (0 integer (0 of which binary)) and 0 elements\n",
      "Cbc3007W No integer variables - nothing to do\n",
      "Cuts at root node changed objective from 0 to -1.79769e+308\n",
      "Probing was tried 0 times and created 0 cuts of which 0 were active after adding rounds of cuts (0.000 seconds)\n",
      "Gomory was tried 0 times and created 0 cuts of which 0 were active after adding rounds of cuts (0.000 seconds)\n",
      "Knapsack was tried 0 times and created 0 cuts of which 0 were active after adding rounds of cuts (0.000 seconds)\n",
      "Clique was tried 0 times and created 0 cuts of which 0 were active after adding rounds of cuts (0.000 seconds)\n",
      "MixedIntegerRounding2 was tried 0 times and created 0 cuts of which 0 were active after adding rounds of cuts (0.000 seconds)\n",
      "FlowCover was tried 0 times and created 0 cuts of which 0 were active after adding rounds of cuts (0.000 seconds)\n",
      "TwoMirCuts was tried 0 times and created 0 cuts of which 0 were active after adding rounds of cuts (0.000 seconds)\n",
      "ZeroHalf was tried 0 times and created 0 cuts of which 0 were active after adding rounds of cuts (0.000 seconds)\n",
      "\n",
      "Result - Optimal solution found\n",
      "\n",
      "Objective value:                0.00000000\n",
      "Enumerated nodes:               0\n",
      "Total iterations:               0\n",
      "Time (CPU seconds):             0.01\n",
      "Time (Wallclock seconds):       0.01\n",
      "\n",
      "Option for printingOptions changed from normal to all\n",
      "Total time (CPU seconds):       0.02   (Wallclock seconds):       0.03\n",
      "\n"
     ]
    },
    {
     "data": {
      "text/plain": [
       "1"
      ]
     },
     "execution_count": 15,
     "metadata": {},
     "output_type": "execute_result"
    }
   ],
   "source": [
    "for i in range(num_papers):\n",
    "    for j in range(i+1, num_papers):\n",
    "        if have_common_authors(papers[i], papers[j]):\n",
    "            for session in range(num_sessions):\n",
    "                for track_i in range(session_details[session][1]):\n",
    "                    for track_j in range(session_details[session][1]):\n",
    "                        if track_i != track_j:\n",
    "                            prob += x[i, session, track_i] + x[j, session, track_j] <= 1\n",
    "\n",
    "\n",
    "# Constraint 3: Papers with the same topic should be scheduled in the same session\n",
    "for topic in set(paper.topic for paper in papers):\n",
    "    for j in range(num_sessions):\n",
    "        # For each topic, find papers with that topic and ensure they are scheduled in the same session\n",
    "        topic_papers = [i for i, paper in enumerate(papers) if paper.topic == topic]\n",
    "        for i in topic_papers:\n",
    "            for k in range(session_details[j][1]):\n",
    "                prob += pulp.lpSum(x[i, j, m] for m in range(session_details[j][1])) == x[i, j, k]\n",
    "\n",
    "# Solve the problem\n",
    "prob.solve()"
   ]
  },
  {
   "cell_type": "code",
   "execution_count": 16,
   "metadata": {},
   "outputs": [],
   "source": [
    "# Output the results\n",
    "for v in prob.variables():\n",
    "    if v.varValue == 1:\n",
    "        print(v.name, \"=\", v.varValue)"
   ]
  }
 ],
 "metadata": {
  "kernelspec": {
   "display_name": "myenv",
   "language": "python",
   "name": "python3"
  },
  "language_info": {
   "codemirror_mode": {
    "name": "ipython",
    "version": 3
   },
   "file_extension": ".py",
   "mimetype": "text/x-python",
   "name": "python",
   "nbconvert_exporter": "python",
   "pygments_lexer": "ipython3",
   "version": "3.12.2"
  }
 },
 "nbformat": 4,
 "nbformat_minor": 2
}
